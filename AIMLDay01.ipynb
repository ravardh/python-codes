{
 "cells": [
  {
   "cell_type": "code",
   "execution_count": 1,
   "id": "11d7a1b7-9fc2-41f2-9c47-cbe0eb744d81",
   "metadata": {},
   "outputs": [
    {
     "name": "stdout",
     "output_type": "stream",
     "text": [
      "Hello\n"
     ]
    }
   ],
   "source": [
    "print(\"Hello\")"
   ]
  },
  {
   "cell_type": "code",
   "execution_count": 8,
   "id": "39975861-f2d6-4504-934f-50a38c849356",
   "metadata": {},
   "outputs": [
    {
     "name": "stdout",
     "output_type": "stream",
     "text": [
      "<class 'int'>\n",
      "<class 'float'>\n",
      "<class 'str'>\n",
      "7.5\n"
     ]
    },
    {
     "ename": "TypeError",
     "evalue": "unsupported operand type(s) for +: 'int' and 'str'",
     "output_type": "error",
     "traceback": [
      "\u001b[1;31m---------------------------------------------------------------------------\u001b[0m",
      "\u001b[1;31mTypeError\u001b[0m                                 Traceback (most recent call last)",
      "Cell \u001b[1;32mIn[8], line 10\u001b[0m\n\u001b[0;32m      8\u001b[0m \u001b[38;5;28mprint\u001b[39m(a\u001b[38;5;241m+\u001b[39mb)\n\u001b[0;32m      9\u001b[0m \u001b[38;5;66;03m#print(c+a)\u001b[39;00m\n\u001b[1;32m---> 10\u001b[0m \u001b[38;5;28mprint\u001b[39m(\u001b[43ma\u001b[49m\u001b[38;5;241;43m+\u001b[39;49m\u001b[43mc\u001b[49m)\n",
      "\u001b[1;31mTypeError\u001b[0m: unsupported operand type(s) for +: 'int' and 'str'"
     ]
    }
   ],
   "source": [
    "a=5\n",
    "b=2.5\n",
    "c='a'\n",
    "print(type(a))\n",
    "print(type(b))\n",
    "print(type(c))\n",
    "\n",
    "print(a+b)\n",
    "#print(c+a)\n",
    "print(a+c)"
   ]
  },
  {
   "cell_type": "code",
   "execution_count": 8,
   "id": "825c9549-c185-466c-aad7-d7e1b089dc2b",
   "metadata": {},
   "outputs": [
    {
     "name": "stdout",
     "output_type": "stream",
     "text": [
      "5\n",
      "<class 'int'>\n",
      "5.5\n",
      "<class 'float'>\n",
      "5\n",
      "<class 'str'>\n",
      "[5, 7]\n",
      "<class 'list'>\n",
      "(2, 3)\n",
      "<class 'tuple'>\n",
      "range(0, 10)\n",
      "<class 'range'>\n",
      "{1: 'Abcd', 2: 'asdadsd'}\n",
      "<class 'dict'>\n"
     ]
    }
   ],
   "source": [
    "a=5\n",
    "print(a)\n",
    "print(type(a))\n",
    "\n",
    "a=5.5\n",
    "print(a)\n",
    "print(type(a))\n",
    "\n",
    "a=\"5\"\n",
    "print(a)\n",
    "print(type(a))\n",
    "\n",
    "a=[5,7]\n",
    "print(a)\n",
    "print(type(a))\n",
    "\n",
    "a=(2,3)\n",
    "print(a)\n",
    "print(type(a))\n",
    "\n",
    "a=range(0,10)\n",
    "print(a)\n",
    "print(type(a))\n",
    "\n",
    "a={1:\"Abcd\",2:\"asdadsd\"}\n",
    "print(a)\n",
    "print(type(a))"
   ]
  },
  {
   "cell_type": "code",
   "execution_count": 9,
   "id": "1d611bbb-35bc-4825-bc4f-eb318d9f0249",
   "metadata": {},
   "outputs": [
    {
     "name": "stdout",
     "output_type": "stream",
     "text": [
      "10\n",
      "10\n",
      "10\n"
     ]
    }
   ],
   "source": [
    "a=b=c=10\n",
    "print(a)\n",
    "print(b)\n",
    "print(c)\n"
   ]
  },
  {
   "cell_type": "code",
   "execution_count": 10,
   "id": "af91fa9c-c9ca-4118-abc4-0e971b205bc2",
   "metadata": {},
   "outputs": [
    {
     "name": "stdout",
     "output_type": "stream",
     "text": [
      "1\n",
      "2\n",
      "3\n"
     ]
    }
   ],
   "source": [
    "a,b,c = [1,2,3]\n",
    "print(a)\n",
    "print(b)\n",
    "print(c)"
   ]
  },
  {
   "cell_type": "code",
   "execution_count": 12,
   "id": "03757e4f-2033-48b9-9cc7-5970ef70bca1",
   "metadata": {},
   "outputs": [
    {
     "name": "stdout",
     "output_type": "stream",
     "text": [
      "10 hello 20.5\n"
     ]
    },
    {
     "ename": "TypeError",
     "evalue": "unsupported operand type(s) for +: 'int' and 'str'",
     "output_type": "error",
     "traceback": [
      "\u001b[1;31m---------------------------------------------------------------------------\u001b[0m",
      "\u001b[1;31mTypeError\u001b[0m                                 Traceback (most recent call last)",
      "Cell \u001b[1;32mIn[12], line 7\u001b[0m\n\u001b[0;32m      3\u001b[0m c\u001b[38;5;241m=\u001b[39m \u001b[38;5;241m20.50\u001b[39m\n\u001b[0;32m      5\u001b[0m \u001b[38;5;28mprint\u001b[39m(a,b,c)\n\u001b[1;32m----> 7\u001b[0m \u001b[38;5;28mprint\u001b[39m(\u001b[43ma\u001b[49m\u001b[38;5;241;43m+\u001b[39;49m\u001b[43mb\u001b[49m\u001b[38;5;241m+\u001b[39mc)\n",
      "\u001b[1;31mTypeError\u001b[0m: unsupported operand type(s) for +: 'int' and 'str'"
     ]
    }
   ],
   "source": [
    "a=10\n",
    "b= \"hello\"\n",
    "c= 20.50\n",
    "\n",
    "print(a,b,c)\n",
    "\n"
   ]
  },
  {
   "cell_type": "code",
   "execution_count": 16,
   "id": "c041323b-f1b5-4f63-8349-b957af7a8447",
   "metadata": {},
   "outputs": [
    {
     "name": "stdout",
     "output_type": "stream",
     "text": [
      "abcd efgh ijkl mnop\n",
      "abcdefghijklmnop\n"
     ]
    }
   ],
   "source": [
    "a=\"abcd\"\n",
    "b=\"efgh\"\n",
    "c=\"ijkl\"\n",
    "\n",
    "print(a,b,c,\"mnop\")\n",
    "print(a+b+c+\"mnop\")"
   ]
  },
  {
   "cell_type": "code",
   "execution_count": 21,
   "id": "2ff1735f-5438-4f05-b15e-58d204055de1",
   "metadata": {},
   "outputs": [
    {
     "name": "stdin",
     "output_type": "stream",
     "text": [
      " 5\n",
      " 7\n"
     ]
    },
    {
     "name": "stdout",
     "output_type": "stream",
     "text": [
      "12\n",
      "<class 'str'>\n",
      "<class 'str'>\n",
      "<class 'int'>\n"
     ]
    }
   ],
   "source": [
    "a=input()\n",
    "b=input()\n",
    "c=int(a)+int(b)\n",
    "print(c)\n",
    "print(type(a))\n",
    "print(type(b))\n",
    "print(type(c))\n"
   ]
  },
  {
   "cell_type": "code",
   "execution_count": 22,
   "id": "531eb0ea-e896-4820-ad27-cce118486db7",
   "metadata": {},
   "outputs": [
    {
     "name": "stdin",
     "output_type": "stream",
     "text": [
      " 5\n",
      " 7\n"
     ]
    },
    {
     "name": "stdout",
     "output_type": "stream",
     "text": [
      "12\n",
      "<class 'int'>\n",
      "<class 'int'>\n",
      "<class 'int'>\n"
     ]
    }
   ],
   "source": [
    "a=int(input())\n",
    "b=int(input())\n",
    "\n",
    "c=a+b\n",
    "print(c)\n",
    "print(type(a))\n",
    "print(type(b))\n",
    "print(type(c))"
   ]
  },
  {
   "cell_type": "code",
   "execution_count": 23,
   "id": "4340ad3b-2bab-49d7-971f-fa6c70c575b1",
   "metadata": {},
   "outputs": [
    {
     "name": "stdin",
     "output_type": "stream",
     "text": [
      "Enter First number:  3\n",
      "Enter Second number:  5\n"
     ]
    },
    {
     "name": "stdout",
     "output_type": "stream",
     "text": [
      "8\n"
     ]
    }
   ],
   "source": [
    "a=int(input(\"Enter First number: \"))\n",
    "b=int(input(\"Enter Second number: \"))\n",
    "\n",
    "c=a+b\n",
    "print(c)\n"
   ]
  },
  {
   "cell_type": "code",
   "execution_count": 29,
   "id": "e033ecd6-5cff-43f4-94c7-6290b7929915",
   "metadata": {},
   "outputs": [
    {
     "name": "stdin",
     "output_type": "stream",
     "text": [
      "Enter three number:  4 5 6\n"
     ]
    },
    {
     "name": "stdout",
     "output_type": "stream",
     "text": [
      "456\n"
     ]
    }
   ],
   "source": [
    "a,b,c=input(\"Enter three number: \").split()\n",
    "\n",
    "\n",
    "d=a+b+c\n",
    "print(d)"
   ]
  },
  {
   "cell_type": "code",
   "execution_count": 31,
   "id": "4b047e14-33a6-4f0c-8211-04b7c0f90b77",
   "metadata": {},
   "outputs": [
    {
     "name": "stdin",
     "output_type": "stream",
     "text": [
      "Enter three number:  4 raj 5.5\n"
     ]
    },
    {
     "name": "stdout",
     "output_type": "stream",
     "text": [
      "4raj5.5\n"
     ]
    }
   ],
   "source": [
    "a,b,c=input(\"Enter three number: \").split()\n",
    "\n",
    "\n",
    "d=a+b+c\n",
    "print(d)"
   ]
  },
  {
   "cell_type": "code",
   "execution_count": null,
   "id": "ef91020b-51e2-4530-bd10-ea45488bc3ac",
   "metadata": {},
   "outputs": [],
   "source": []
  }
 ],
 "metadata": {
  "kernelspec": {
   "display_name": "Python 3 (ipykernel)",
   "language": "python",
   "name": "python3"
  },
  "language_info": {
   "codemirror_mode": {
    "name": "ipython",
    "version": 3
   },
   "file_extension": ".py",
   "mimetype": "text/x-python",
   "name": "python",
   "nbconvert_exporter": "python",
   "pygments_lexer": "ipython3",
   "version": "3.12.3"
  }
 },
 "nbformat": 4,
 "nbformat_minor": 5
}
